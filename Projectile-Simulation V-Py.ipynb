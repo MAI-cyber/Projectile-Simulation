{
 "cells": [
  {
   "cell_type": "code",
   "execution_count": 1,
   "id": "b8a7d7bf",
   "metadata": {},
   "outputs": [
    {
     "data": {
      "text/html": [
       "<div id=\"glowscript\" class=\"glowscript\"></div>"
      ],
      "text/plain": [
       "<IPython.core.display.HTML object>"
      ]
     },
     "metadata": {},
     "output_type": "display_data"
    },
    {
     "data": {
      "application/javascript": [
       "if (typeof Jupyter !== \"undefined\") { window.__context = { glowscript_container: $(\"#glowscript\").removeAttr(\"id\")};}else{ element.textContent = ' ';}"
      ],
      "text/plain": [
       "<IPython.core.display.Javascript object>"
      ]
     },
     "metadata": {},
     "output_type": "display_data"
    }
   ],
   "source": [
    "# Code By Muhammad Abdullah Ijaz \n",
    "# Imports\n",
    "from vpython import *\n",
    "import numpy as np\n",
    "import math"
   ]
  },
  {
   "cell_type": "code",
   "execution_count": 2,
   "id": "c9947d08",
   "metadata": {},
   "outputs": [],
   "source": [
    "# Variables User can update\n",
    "\n",
    "#Projectile\n",
    "theta = 0.1*pi   # Angle of projection with respect to y axis\n",
    "phi = 1.6*pi    # Angle of projection with respect to z axis\n",
    "initial_pos = vector(0,0,0)\n",
    "in_velocity = 100\n",
    "initial_velocity = vector(in_velocity*sin(theta)*sin(phi), in_velocity*cos(theta), in_velocity*cos(phi)*sin(theta))\n",
    "radius_of_ball = 0.5\n",
    "mass_of_ball = 2\n",
    "\n",
    "\n",
    "#Enviroment\n",
    "air_velocity = vector(-30,0,10)\n",
    "air_density = 1.21\n",
    "air_drag = 0.5\n",
    "\n",
    "Gravity = vector(0,-9.8,0)"
   ]
  },
  {
   "cell_type": "code",
   "execution_count": 3,
   "id": "48f96c36",
   "metadata": {},
   "outputs": [
    {
     "data": {
      "application/javascript": [
       "if (typeof Jupyter !== \"undefined\") {require.undef(\"nbextensions/vpython_libraries/glow.min\");}else{element.textContent = ' ';}"
      ],
      "text/plain": [
       "<IPython.core.display.Javascript object>"
      ]
     },
     "metadata": {},
     "output_type": "display_data"
    },
    {
     "data": {
      "application/javascript": [
       "if (typeof Jupyter !== \"undefined\") {require.undef(\"nbextensions/vpython_libraries/glowcomm\");}else{element.textContent = ' ';}"
      ],
      "text/plain": [
       "<IPython.core.display.Javascript object>"
      ]
     },
     "metadata": {},
     "output_type": "display_data"
    },
    {
     "data": {
      "application/javascript": [
       "if (typeof Jupyter !== \"undefined\") {require.undef(\"nbextensions/vpython_libraries/jquery-ui.custom.min\");}else{element.textContent = ' ';}"
      ],
      "text/plain": [
       "<IPython.core.display.Javascript object>"
      ]
     },
     "metadata": {},
     "output_type": "display_data"
    },
    {
     "data": {
      "application/javascript": [
       "if (typeof Jupyter !== \"undefined\") {require([\"nbextensions/vpython_libraries/glow.min\"], function(){console.log(\"GLOW LOADED\");});}else{element.textContent = ' ';}"
      ],
      "text/plain": [
       "<IPython.core.display.Javascript object>"
      ]
     },
     "metadata": {},
     "output_type": "display_data"
    },
    {
     "data": {
      "application/javascript": [
       "if (typeof Jupyter !== \"undefined\") {require([\"nbextensions/vpython_libraries/glowcomm\"], function(){console.log(\"GLOWCOMM LOADED\");});}else{element.textContent = ' ';}"
      ],
      "text/plain": [
       "<IPython.core.display.Javascript object>"
      ]
     },
     "metadata": {},
     "output_type": "display_data"
    },
    {
     "data": {
      "application/javascript": [
       "if (typeof Jupyter !== \"undefined\") {require([\"nbextensions/vpython_libraries/jquery-ui.custom.min\"], function(){console.log(\"JQUERY LOADED\");});}else{element.textContent = ' ';}"
      ],
      "text/plain": [
       "<IPython.core.display.Javascript object>"
      ]
     },
     "metadata": {},
     "output_type": "display_data"
    }
   ],
   "source": [
    "# Time\n",
    "t = 0 \n",
    "dt = 0.01 \n",
    "\n",
    "# Graphs\n",
    "g1 = graph(width=400, height= 200, xtitle= \"Time\", ytitle = \"Height\")\n",
    "g2 = graph(width=400, height= 200, xtitle= \"Distance in X-axis\", ytitle = \"Distance in Y-axis\")\n",
    "yDots = gdots(color= color.yellow, graph = g1)\n",
    "xyDots = gdots(color= color.green, graph = g2)\n",
    "\n",
    "#Surface/Ground size\n",
    "#upper_limit = mag2(initial_velocity)/mag(Gravity)\n",
    "#if mag(air_velocity) > 0:\n",
    "#    upper_limit = upper_limit*mag(air_velocity)\n",
    "\n",
    "Normal_to_surface = vector(1,0,0)\n"
   ]
  },
  {
   "cell_type": "code",
   "execution_count": 4,
   "id": "fdfa1306",
   "metadata": {},
   "outputs": [],
   "source": [
    "def func(theta):\n",
    "    \n",
    "    canvas()\n",
    "\n",
    "    # Scene\n",
    "    scene.center = vector(50,20,10)\n",
    "    scene.fov= pi/25\n",
    "\n",
    "    # Objects\n",
    "    ball = sphere(pos = initial_pos, radius = radius_of_ball , color = color.orange , make_trail = True)\n",
    "    ball.velocity = vector(in_velocity*sin(theta)*sin(phi), in_velocity*cos(theta), in_velocity*cos(phi)*sin(theta))\n",
    "    ball.mass = mass_of_ball\n",
    "    ball.area = pi*radius_of_ball**2\n",
    "    \n",
    "    #Size\n",
    "    t = 0\n",
    "    ball_pos = ball.pos\n",
    "    ball_vel = ball.velocity\n",
    "    while ball_pos.y>= 0:\n",
    "        relative_vel = ball_vel - air_velocity\n",
    "        Force = Gravity*ball.mass - 0.5*air_drag*air_density*ball.area*mag2(relative_vel)*(relative_vel).hat\n",
    "        accel = Force/ball.mass\n",
    "        ball_vel = ball_vel + dt*accel\n",
    "        ball_pos = ball_pos + ball_vel*dt\n",
    "        t = t+dt\n",
    "    upper_limit = 1.2* mag(ball_pos)\n",
    "\n",
    "    # axis\n",
    "    xaxis = cylinder(pos= vector(0,0,0), axis= vector(1,0,0), size= vector(upper_limit, 0.3, 0.3) )\n",
    "    yaxis = cylinder(pos= vector(0,0,0), axis= vector(0,1,0), size= vector(upper_limit, 0.3, 0.3) )\n",
    "    zaxis = cylinder(pos= vector(0,0,0), axis= vector(0,0,1), size= vector(upper_limit, 0.3, 0.3) )\n",
    "    xlabel = label(pos= vector(upper_limit,3,3), text = \"X-axis\" )\n",
    "    ylabel = label(pos= vector(3,upper_limit,3), text = \"Y-axis\" )\n",
    "    zlabel = label(pos= vector(3,3,upper_limit), text = \"z-axis\" )\n",
    "\n",
    "    surface= box(pos= initial_pos, axis= Normal_to_surface, length = 2*upper_limit, height= 0.2, width=2*upper_limit , color = color.blue)\n",
    "    \n",
    "    t = 0\n",
    "    \n",
    "    while ball.pos.y>= 0:\n",
    "        rate(1/dt)  # Make rate depend on the assigned value of dt\n",
    "        relative_velocity = ball.velocity - air_velocity\n",
    "        Force = Gravity*ball.mass - 0.5*air_drag*air_density*ball.area*mag2(relative_velocity)*(relative_velocity).hat\n",
    "        accel = Force/ball.mass\n",
    "        ball.velocity = ball.velocity + dt*accel\n",
    "        ball.pos = ball.pos + ball.velocity*dt\n",
    "        t = t+dt\n",
    "        #print (\"Ball pos = \", ball.pos)\n",
    "\n",
    "        #yDots.plot(t,ball.pos.y)\n",
    "        #xyDots.plot(ball.pos.x,ball.pos.y)\n",
    "\n",
    "    range = mag(ball.pos)\n",
    "    print(\"Theta , Range ,time = \", theta/pi ,\",\",  range, \"m,\" , t, \"s\")"
   ]
  },
  {
   "cell_type": "code",
   "execution_count": 6,
   "id": "dc9e00d9",
   "metadata": {},
   "outputs": [
    {
     "data": {
      "text/html": [
       "<div id=\"glowscript\" class=\"glowscript\"></div>"
      ],
      "text/plain": [
       "<IPython.core.display.HTML object>"
      ]
     },
     "metadata": {},
     "output_type": "display_data"
    },
    {
     "data": {
      "application/javascript": [
       "if (typeof Jupyter !== \"undefined\") { window.__context = { glowscript_container: $(\"#glowscript\").removeAttr(\"id\")};}else{ element.textContent = ' ';}"
      ],
      "text/plain": [
       "<IPython.core.display.Javascript object>"
      ]
     },
     "metadata": {},
     "output_type": "display_data"
    },
    {
     "name": "stdout",
     "output_type": "stream",
     "text": [
      "Theta , Range ,time =  0.1 , 126.8486404228363 m, 4.019999999999959 s\n"
     ]
    }
   ],
   "source": [
    "func(theta)"
   ]
  },
  {
   "cell_type": "code",
   "execution_count": null,
   "id": "a885d371",
   "metadata": {},
   "outputs": [],
   "source": []
  }
 ],
 "metadata": {
  "kernelspec": {
   "display_name": "Python 3",
   "language": "python",
   "name": "python3"
  },
  "language_info": {
   "codemirror_mode": {
    "name": "ipython",
    "version": 3
   },
   "file_extension": ".py",
   "mimetype": "text/x-python",
   "name": "python",
   "nbconvert_exporter": "python",
   "pygments_lexer": "ipython3",
   "version": "3.9.1"
  }
 },
 "nbformat": 4,
 "nbformat_minor": 5
}
