{
 "cells": [
  {
   "cell_type": "code",
   "execution_count": 20,
   "id": "488a0693",
   "metadata": {},
   "outputs": [],
   "source": [
    "# Code By Muhammad Abdullah Ijaz \n",
    "# Imports\n",
    "from vpython import *\n",
    "import numpy as np\n",
    "import math\n",
    "from scipy import optimize\n",
    "from numpy import asarray, arange\n",
    "from matplotlib import pyplot"
   ]
  },
  {
   "cell_type": "code",
   "execution_count": 106,
   "id": "792ac524",
   "metadata": {},
   "outputs": [],
   "source": [
    "# Variables User can update\n",
    "\n",
    "#Projectile\n",
    "initial_pos = vector(0,0,0)\n",
    "in_velocity = 100\n",
    "radius_of_ball = 0.5\n",
    "mass_of_ball = 2\n",
    "area_of_ball = pi*radius_of_ball*radius_of_ball\n",
    "theta = None   # Angle og projectile with respect to y axis\n",
    "phi = 0 # Angle of projection with respect to z axis\n",
    "\n",
    "#Enviroment\n",
    "air_velocity = vector(0,0,0)\n",
    "air_density = 1.21\n",
    "air_drag = 0.5\n",
    "\n",
    "g = -9.8\n",
    "Gravity = vector(0,g,0)"
   ]
  },
  {
   "cell_type": "code",
   "execution_count": 104,
   "id": "c462aa59",
   "metadata": {},
   "outputs": [],
   "source": [
    "def funk(theta):\n",
    "    t = 0\n",
    "    dt = 0.01\n",
    "    ball_pos = initial_pos \n",
    "    ball_velocity= vector(in_velocity*sin(theta)*sin(phi), in_velocity*cos(theta), in_velocity*cos(phi)*sin(theta))\n",
    "    while ball_pos.y >=0  or t < 0.5:\n",
    "        relative_velocity = ball_velocity - air_velocity\n",
    "        Force = Gravity*mass_of_ball - 0.5*air_drag*air_density*area_of_ball*mag2(relative_velocity)*(relative_velocity).hat\n",
    "        accel = Force/mass_of_ball\n",
    "        ball_velocity = ball_velocity + dt*accel\n",
    "        ball_pos = ball_pos + ball_velocity*dt\n",
    "        t = t+dt\n",
    "        if ball_pos.y < 0:\n",
    "                break\n",
    "    ball_pos.y = 0\n",
    "    Range = - mag(ball_pos)\n",
    "    #print (\"Range =\" , ball_pos)\n",
    "    return Range"
   ]
  },
  {
   "cell_type": "code",
   "execution_count": 23,
   "id": "c81d89f7",
   "metadata": {},
   "outputs": [],
   "source": [
    "def dev(theta):\n",
    "    delta = 0.01*pi\n",
    "    upper_theta = theta+ delta\n",
    "    lower_theta = theta- delta\n",
    "    \n",
    "    upper_val = funk(upper_theta)\n",
    "    lower_val = funk(lower_theta)\n",
    "    \n",
    "    grad =(upper_val - lower_val)/(2*delta)\n",
    "    #print(\"Gradient =\", grad)\n",
    "    return grad"
   ]
  },
  {
   "cell_type": "code",
   "execution_count": 108,
   "id": "d3684f04",
   "metadata": {},
   "outputs": [],
   "source": [
    "def gradient_descent(tolerence, iterations_limit, learn_rate):\n",
    "    \n",
    "    angle_list,dist_list = list(), list()\n",
    "    angle = 0.2*pi #random.randrange(1,4) *pi/10.0\n",
    "    if dev(angle)<= 0.1:\n",
    "        angle =0.3*pi\n",
    "    for i in range(iterations_limit):\n",
    "        #print(\"Rang\",func(theta))\n",
    "        grad = dev(angle)\n",
    "        delta = learn_rate* grad\n",
    "        if abs(delta) <= tolerence:\n",
    "            break\n",
    "        angle -= delta\n",
    "        angle_list.append(angle)\n",
    "        dist = -funk(angle)\n",
    "        dist_list.append(dist)\n",
    "        print('>%d f(%s) = %.5f' % (i, angle, dist))\n",
    "        #print (\"Theta, Range = \", theta/pi, -funk(theta, phi, in_velocity))\n",
    "    return [angle_list,dist_list ,angle]"
   ]
  },
  {
   "cell_type": "code",
   "execution_count": 109,
   "id": "cf5bccc7",
   "metadata": {},
   "outputs": [
    {
     "name": "stdout",
     "output_type": "stream",
     "text": [
      ">0 f(0.9677408604324182) = 23.14375\n",
      ">1 f(0.9901021582868732) = 23.30237\n",
      ">2 f(1.009892775875952) = 23.41330\n",
      ">3 f(1.026418198802081) = 23.51382\n",
      ">4 f(1.0419333165484164) = 23.57271\n",
      ">5 f(1.054535882688345) = 23.63586\n",
      ">6 f(1.0654908991959706) = 23.65447\n",
      ">7 f(1.0750890317722592) = 23.70078\n",
      "Optimum Theta =  0.34221146734086955 pi\n",
      "Maximum Range =  23.700780397184904 m\n"
     ]
    },
    {
     "data": {
      "image/png": "[encoded data removed]",
      "text/plain": [
       "<Figure size 432x288 with 1 Axes>"
      ]
     },
     "metadata": {
      "needs_background": "light"
     },
     "output_type": "display_data"
    }
   ],
   "source": [
    "# Theta for maximum range\n",
    "\n",
    "phi = 0.5*pi\n",
    "iterations_limit = 1000\n",
    "\n",
    "#theta_bounds = asarray([[0*pi, 0.5*pi]])\n",
    "\n",
    "if air_drag == 0:\n",
    "    tolerence = 0.001  # 00\n",
    "    learn_rate = 0.00004\n",
    "\n",
    "if air_drag == 0.5:\n",
    "    tolerence = 0.009\n",
    "    learn_rate =  0.003\n",
    "    \n",
    "angle_list,dist_list, optimum = gradient_descent(tolerence, iterations_limit, learn_rate)\n",
    "\n",
    "input_angle, ouput_dist =  list(), list()\n",
    "for i in range(50):\n",
    "    angle = i*pi/100.0\n",
    "    input_angle.append(angle)\n",
    "    ouput_dist.append(-funk(angle))\n",
    "\n",
    "\n",
    "pyplot.plot(input_angle, ouput_dist, color = 'yellow')\n",
    "pyplot.plot(angle_list,dist_list, color ='red')\n",
    "\n",
    "print(\"Optimum Theta = \", optimum/pi, \"pi\")\n",
    "print(\"Maximum Range = \", -funk(optimum), \"m\")"
   ]
  },
  {
   "cell_type": "code",
   "execution_count": 110,
   "id": "5a12cc8d",
   "metadata": {},
   "outputs": [
    {
     "name": "stdout",
     "output_type": "stream",
     "text": [
      "      fun: -23.75346993700863\n",
      " hess_inv: array([[0.04168444]])\n",
      "      jac: array([-8.4425807])\n",
      "  message: 'Desired error not necessarily achieved due to precision loss.'\n",
      "     nfev: 109\n",
      "      nit: 4\n",
      "     njev: 51\n",
      "   status: 2\n",
      "  success: False\n",
      "        x: array([1.11976172])\n"
     ]
    }
   ],
   "source": [
    "#Scipy\n",
    "inital = np.array([0.2*pi])\n",
    "optimum = optimize.minimize(funk, inital, args=(), method=None, jac=None, hess=None, hessp=None, bounds=None, constraints=(), tol=None, callback=None, options=None)\n",
    "print( optimum)\n",
    "#print(\"Optimum Theta = \", op_theta/pi, \"pi\")"
   ]
  }
 ],
 "metadata": {
  "kernelspec": {
   "display_name": "Python 3",
   "language": "python",
   "name": "python3"
  },
  "language_info": {
   "codemirror_mode": {
    "name": "ipython",
    "version": 3
   },
   "file_extension": ".py",
   "mimetype": "text/x-python",
   "name": "python",
   "nbconvert_exporter": "python",
   "pygments_lexer": "ipython3",
   "version": "3.9.1"
  }
 },
 "nbformat": 4,
 "nbformat_minor": 5
}
